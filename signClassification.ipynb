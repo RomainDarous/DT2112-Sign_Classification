{
  "cells": [
    {
      "cell_type": "markdown",
      "metadata": {
        "id": "Va5Es67U-DDv"
      },
      "source": [
        "# DD2437 - Sign Classification\n",
        "Philip Rettig, Yoahn Pellerin, Romain Darous."
      ]
    },
    {
      "cell_type": "markdown",
      "metadata": {
        "id": "DCOqfBsG_FHx"
      },
      "source": [
        "## Importing modules\n",
        "And setting up the programming environment"
      ]
    },
    {
      "cell_type": "code",
      "execution_count": 1,
      "metadata": {
        "id": "Dy7EBY8M09e2"
      },
      "outputs": [],
      "source": [
        "# Modules to load data\n",
        "import zipfile\n",
        "import os\n",
        "import json\n",
        "\n",
        "# Other modules\n",
        "import numpy as np\n",
        "import torch"
      ]
    },
    {
      "cell_type": "code",
      "execution_count": 2,
      "metadata": {
        "colab": {
          "base_uri": "https://localhost:8080/"
        },
        "id": "4Ua1UL6uzubH",
        "outputId": "ec243dcc-5e50-4086-e9ed-fa187817b454"
      },
      "outputs": [
        {
          "name": "stdout",
          "output_type": "stream",
          "text": [
            "Mounted at /content/drive\n"
          ]
        }
      ],
      "source": [
        "from google.colab import drive\n",
        "drive.mount('/content/drive')"
      ]
    },
    {
      "cell_type": "code",
      "execution_count": 1,
      "metadata": {
        "id": "I-4Mtfin-cUf"
      },
      "outputs": [],
      "source": [
        "# Settingan an environment variable\n",
        "path = '/content/drive/MyDrive/PATH_TO_FOLDER_OF_signCLassification.ipynb'"
      ]
    },
    {
      "cell_type": "markdown",
      "metadata": {
        "id": "Q0W3ugaC1ihn"
      },
      "source": [
        "## Data pre-processing\n",
        "1. Extracted .json files from the compressed file containing the frame per frame pose extraction for each video,\n",
        "2. Looking for sign tokens that have several videos,\n",
        "3. Using some of them to buil a train set using resample methods,\n",
        "4. Keeping the others for the test set."
      ]
    },
    {
      "cell_type": "markdown",
      "metadata": {
        "id": "vuzgSbUWA8ZP"
      },
      "source": [
        "### 1. Extracting data"
      ]
    },
    {
      "cell_type": "code",
      "execution_count": 4,
      "metadata": {
        "colab": {
          "base_uri": "https://localhost:8080/"
        },
        "id": "CdRbEmsL6HSE",
        "outputId": "156d8085-0de9-4314-8687-cede0a825789"
      },
      "outputs": [
        {
          "name": "stdout",
          "output_type": "stream",
          "text": [
            "Extracted files: 4\n"
          ]
        }
      ],
      "source": [
        "# Loading the .json files from the compressed file\n",
        "zip_path = path + 'poses.zip'\n",
        "extraction_path = './'\n",
        "\n",
        "# Maximum number of .json files to extract\n",
        "with zipfile.ZipFile(zip_path, 'r') as zip_ref:\n",
        "    # Get a list of all files in the zip archive\n",
        "    all_files = zip_ref.namelist()\n",
        "\n",
        "    # Filter out the list to include only JSON files\n",
        "    json_files = [f for f in all_files if f.endswith('.json') and 'fras' not in f.split('-')]\n",
        "\n",
        "    # Limit the number of files to extract to max_files\n",
        "    files_to_extract = json_files[:]\n",
        "\n",
        "    # Extract only the selected files\n",
        "    for file in files_to_extract:\n",
        "        zip_ref.extract(file, extraction_path)\n",
        "\n",
        "# List the contents of the extracted directory to verify\n",
        "extracted_files = os.listdir(extraction_path)\n",
        "print(\"Extracted files:\", len(extracted_files))  # This may include non-JSON files already present in the directory\n"
      ]
    },
    {
      "cell_type": "code",
      "execution_count": 5,
      "metadata": {
        "id": "3Osse6KL8ZpI"
      },
      "outputs": [],
      "source": [
        "out_folder_path = './out'\n",
        "\n",
        "# List all files in the \"out\" folder\n",
        "files = os.listdir(out_folder_path)\n",
        "\n",
        "# Filter out JSON files\n",
        "json_files = [file for file in files if file.endswith('.json')]"
      ]
    },
    {
      "cell_type": "code",
      "execution_count": 6,
      "metadata": {
        "colab": {
          "base_uri": "https://localhost:8080/"
        },
        "id": "PEgZaJWqC314",
        "outputId": "60d660b0-8e9d-41f4-bd7f-36a8875858ac"
      },
      "outputs": [
        {
          "data": {
            "text/plain": [
              "['original', '03959', 'tecken.json']"
            ]
          },
          "execution_count": 6,
          "metadata": {},
          "output_type": "execute_result"
        }
      ],
      "source": [
        "json_files[3].split('-')"
      ]
    },
    {
      "cell_type": "markdown",
      "metadata": {
        "id": "oNesLjE9A_pr"
      },
      "source": [
        "### 2. Selecting signs for classification"
      ]
    },
    {
      "cell_type": "code",
      "execution_count": 7,
      "metadata": {
        "id": "6WhLJFXFNrmt"
      },
      "outputs": [],
      "source": [
        "def get_sgn_translation(file_name) :\n",
        "  split_name = file_name.split('-')\n",
        "\n",
        "  idx = 0\n",
        "  while (split_name[idx] != 'tecken.json' and split_name[idx] != 'fras') :\n",
        "    idx += 1\n",
        "  idx -= 1\n",
        "\n",
        "  sgn = ''\n",
        "  for i in range(idx) :\n",
        "    sgn += split_name[i] + \"-\"\n",
        "  sgn = sgn[:-1]\n",
        "  return sgn"
      ]
    },
    {
      "cell_type": "code",
      "execution_count": 8,
      "metadata": {
        "id": "CZCy2KT0A22q"
      },
      "outputs": [],
      "source": [
        "# Building a dictionary with sign token names and the amount of video per sign token\n",
        "sgn_name_dict = {}\n",
        "\n",
        "for file_name in json_files :\n",
        "  if 'fras' not in file_name :\n",
        "    # Finding sign translation\n",
        "    sgn = get_sgn_translation(file_name)\n",
        "\n",
        "    # Adding the sign to the dictionary\n",
        "    if sgn in sgn_name_dict.keys() :\n",
        "      sgn_name_dict[sgn] += 1\n",
        "    else : sgn_name_dict[sgn] = 1\n",
        "\n",
        "\n",
        "# Sorting the dict by descending value of token number\n",
        "sorted_sgn_name = sorted(sgn_name_dict.items(), key=lambda item:-item[1])"
      ]
    },
    {
      "cell_type": "code",
      "execution_count": 9,
      "metadata": {
        "colab": {
          "base_uri": "https://localhost:8080/"
        },
        "id": "DCDSj3fVGiO7",
        "outputId": "eed5789f-051f-4470-d27d-6aba0a3ad161"
      },
      "outputs": [
        {
          "data": {
            "text/plain": [
              "[('forvanad', 16),\n",
              " ('hjartinfarkt', 11),\n",
              " ('fa', 11),\n",
              " ('jasa', 9),\n",
              " ('byta', 9),\n",
              " ('bara', 8),\n",
              " ('elva', 8),\n",
              " ('stor', 8),\n",
              " ('ekvation', 8),\n",
              " ('bryta-ut', 8)]"
            ]
          },
          "execution_count": 9,
          "metadata": {},
          "output_type": "execute_result"
        }
      ],
      "source": [
        "sorted_sgn_name[:10]"
      ]
    },
    {
      "cell_type": "markdown",
      "metadata": {
        "id": "FoIQN0ewK1FR"
      },
      "source": [
        "Let's try fist a classification of 10 different tokens"
      ]
    },
    {
      "cell_type": "code",
      "execution_count": 10,
      "metadata": {
        "colab": {
          "base_uri": "https://localhost:8080/"
        },
        "id": "Z05I1Nv8FeKn",
        "outputId": "2232d423-3761-41ca-b2f8-112c8b174927"
      },
      "outputs": [
        {
          "name": "stdout",
          "output_type": "stream",
          "text": [
            "['bara', 'bryta-ut', 'byta', 'ekvation', 'elva', 'fa', 'forvanad', 'hjartinfarkt', 'jasa', 'stor']\n"
          ]
        }
      ],
      "source": [
        "# Keeping only the tokens with the biggest content\n",
        "sgn_nb = 10\n",
        "kept_signs = sorted(np.array(sorted_sgn_name)[:sgn_nb,0])\n",
        "print(kept_signs)\n",
        "\n",
        "# Building a label - sign equivalent\n",
        "label_sgn_dict = {}\n",
        "sgn_label_dict = {}\n",
        "for i in range(sgn_nb) :\n",
        "  label_sgn_dict[i] = kept_signs[i]\n",
        "  sgn_label_dict[kept_signs[i]] = i\n"
      ]
    },
    {
      "cell_type": "code",
      "execution_count": 11,
      "metadata": {
        "colab": {
          "base_uri": "https://localhost:8080/"
        },
        "id": "WTPrgHfAWK9p",
        "outputId": "6a869866-474a-4553-bc33-eec95958aaa8"
      },
      "outputs": [
        {
          "data": {
            "text/plain": [
              "{0: 'bara',\n",
              " 1: 'bryta-ut',\n",
              " 2: 'byta',\n",
              " 3: 'ekvation',\n",
              " 4: 'elva',\n",
              " 5: 'fa',\n",
              " 6: 'forvanad',\n",
              " 7: 'hjartinfarkt',\n",
              " 8: 'jasa',\n",
              " 9: 'stor'}"
            ]
          },
          "execution_count": 11,
          "metadata": {},
          "output_type": "execute_result"
        }
      ],
      "source": [
        "label_sgn_dict"
      ]
    },
    {
      "cell_type": "code",
      "execution_count": 12,
      "metadata": {
        "colab": {
          "base_uri": "https://localhost:8080/"
        },
        "id": "cbaWZ_KjWN3p",
        "outputId": "ce4fbe87-c4d0-4d6f-a1b5-40cb222da309"
      },
      "outputs": [
        {
          "data": {
            "text/plain": [
              "{'bara': 0,\n",
              " 'bryta-ut': 1,\n",
              " 'byta': 2,\n",
              " 'ekvation': 3,\n",
              " 'elva': 4,\n",
              " 'fa': 5,\n",
              " 'forvanad': 6,\n",
              " 'hjartinfarkt': 7,\n",
              " 'jasa': 8,\n",
              " 'stor': 9}"
            ]
          },
          "execution_count": 12,
          "metadata": {},
          "output_type": "execute_result"
        }
      ],
      "source": [
        "sgn_label_dict"
      ]
    },
    {
      "cell_type": "markdown",
      "metadata": {
        "id": "I1_yeR3sQony"
      },
      "source": [
        "Label for each video will be a vector of size 10 with zero everywhere except for the associated sign, where the coefficient will be 1."
      ]
    },
    {
      "cell_type": "markdown",
      "metadata": {
        "id": "FvLskynlRCKn"
      },
      "source": [
        "### 3. Loading data features for the chosen signs"
      ]
    },
    {
      "cell_type": "markdown",
      "metadata": {
        "id": "IdjlmG56NPv9"
      },
      "source": [
        "Given the signs we want, we will get the associated .json filenames. We will build at the same time a text set made of sign tokens (shorter videos)."
      ]
    },
    {
      "cell_type": "code",
      "execution_count": 13,
      "metadata": {
        "id": "bzOV2Lt--1Eq"
      },
      "outputs": [],
      "source": [
        "# Getting the files that we want to open\n",
        "subset_json_files = []\n",
        "\n",
        "for file_name in json_files:\n",
        "  sgn = get_sgn_translation(file_name)\n",
        "  if sgn in kept_signs :\n",
        "      json_path = os.path.join(out_folder_path, file_name)\n",
        "      subset_json_files.append(json_path)"
      ]
    },
    {
      "cell_type": "markdown",
      "metadata": {
        "id": "Wii4s5-qU8oJ"
      },
      "source": [
        "We will keep only the hands coordinates as a first experience. We also build a test set at the same time"
      ]
    },
    {
      "cell_type": "code",
      "execution_count": 14,
      "metadata": {
        "id": "FmFsDTbmiDES"
      },
      "outputs": [],
      "source": [
        "train_hand_features_per_video = []\n",
        "test_hand_features_per_video = []\n",
        "\n",
        "train_labels = []\n",
        "test_labels = []\n",
        "\n",
        "frame_step = 4 # step between every kept frames\n",
        "\n",
        "max_frames = 0\n",
        "\n",
        "for file_name in subset_json_files:\n",
        "    with open(file_name, 'r') as file:\n",
        "        data = json.load(file)\n",
        "        frame_nb = len(data.keys())\n",
        "        frames = list(data.keys())\n",
        "        video_hands_flattened = []\n",
        "        for i in range(0, frame_nb, frame_step):\n",
        "          frame_hands = data[frames[i]]['hands']\n",
        "          frame_hands_flattened = torch.flatten(torch.tensor(frame_hands, dtype=torch.float))\n",
        "          video_hands_flattened.append(frame_hands_flattened)\n",
        "        video_hands_flattened_tensor = torch.stack(video_hands_flattened, dim=0)\n",
        "\n",
        "        # Finding the maximal number of frames\n",
        "        if (len(video_hands_flattened) > max_frames) :\n",
        "          max_frames = len(video_hands_flattened)\n",
        "\n",
        "        # Building the label for the video\n",
        "        file_name = file_name[6:]\n",
        "        sgn = get_sgn_translation(file_name)\n",
        "\n",
        "        label = sgn_label_dict[sgn]\n",
        "        one_hot_vector = [0]*sgn_nb\n",
        "        one_hot_vector[label] = 1\n",
        "\n",
        "        if 'tecken' in file_name and test_labels.count(one_hot_vector) < 2 :\n",
        "          test_hand_features_per_video.append(video_hands_flattened_tensor)\n",
        "          test_labels.append(one_hot_vector)\n",
        "\n",
        "        else :\n",
        "          train_hand_features_per_video.append(video_hands_flattened_tensor)\n",
        "          train_labels.append(one_hot_vector)\n",
        "\n"
      ]
    },
    {
      "cell_type": "code",
      "execution_count": 15,
      "metadata": {
        "colab": {
          "base_uri": "https://localhost:8080/"
        },
        "id": "uzsXu_Xsge2u",
        "outputId": "e8606c2a-7578-4bb2-8dad-06280ac66499"
      },
      "outputs": [
        {
          "name": "stdout",
          "output_type": "stream",
          "text": [
            "Max number of frames :  86\n"
          ]
        }
      ],
      "source": [
        "print(\"Max number of frames : \", max_frames)"
      ]
    },
    {
      "cell_type": "markdown",
      "metadata": {
        "id": "gMujgJ24fS_1"
      },
      "source": [
        "Now let's add **padding** so that we have the same number of images per video. We will use a mask to avoid take padding into account while training our model."
      ]
    },
    {
      "cell_type": "code",
      "execution_count": 16,
      "metadata": {
        "colab": {
          "base_uri": "https://localhost:8080/"
        },
        "id": "XRgMY1f0ew3F",
        "outputId": "666331ff-19aa-4d44-b9f0-757fa039af48"
      },
      "outputs": [
        {
          "name": "stdout",
          "output_type": "stream",
          "text": [
            "X_train :  (76, 86, 84)\n",
            "Y_train :  (76, 10)\n",
            "X_test :  (20, 86, 84)\n",
            "Y_test :  (20, 10)\n"
          ]
        }
      ],
      "source": [
        "# Adding padding to every videos\n",
        "feature_nb = train_hand_features_per_video[0].shape[1]\n",
        "pad_value = -10\n",
        "\n",
        "# For training data\n",
        "for i in range(len(train_hand_features_per_video)) :\n",
        "  video = train_hand_features_per_video[i]\n",
        "  if video.shape[0] < max_frames :\n",
        "    nb_frames = max_frames - video.shape[0]\n",
        "    padding = torch.full((nb_frames, feature_nb), pad_value)\n",
        "    video = torch.cat((video, padding), dim=0)\n",
        "    train_hand_features_per_video[i] = video\n",
        "\n",
        "# For testing data\n",
        "for i in range(len(test_hand_features_per_video)) :\n",
        "  video = test_hand_features_per_video[i]\n",
        "  if video.shape[0] < max_frames :\n",
        "    nb_frames = max_frames - video.shape[0]\n",
        "    padding = torch.full((nb_frames, feature_nb), pad_value)\n",
        "    video = torch.cat((video, padding), dim=0)\n",
        "    test_hand_features_per_video[i] = video\n",
        "\n",
        "# Finally, converting all the sets we have in array sets\n",
        "X_train = np.array(train_hand_features_per_video)\n",
        "Y_train = np.array(train_labels)\n",
        "\n",
        "X_test = np.array(test_hand_features_per_video)\n",
        "Y_test = np.array(test_labels)\n",
        "\n",
        "print(\"X_train : \", X_train.shape)\n",
        "print(\"Y_train : \", Y_train.shape)\n",
        "\n",
        "print(\"X_test : \", X_test.shape)\n",
        "print(\"Y_test : \", Y_test.shape)\n"
      ]
    },
    {
      "cell_type": "markdown",
      "metadata": {
        "id": "DuSkjpd3_pxS"
      },
      "source": [
        "Let's now perform **resampling** to get the same amount of data per class."
      ]
    },
    {
      "cell_type": "code",
      "execution_count": 17,
      "metadata": {
        "colab": {
          "base_uri": "https://localhost:8080/"
        },
        "id": "tBMuex8Ey4gA",
        "outputId": "95e4de8b-a91f-439b-be20-32573fedd586"
      },
      "outputs": [
        {
          "name": "stdout",
          "output_type": "stream",
          "text": [
            "Resampled X_train shape: (60, 86, 84)\n",
            "Resampled Y_train shape: (60, 10)\n"
          ]
        }
      ],
      "source": [
        "# Assuming Y_train contains one-hot encoded labels where each label is represented as a vector of size 10\n",
        "\n",
        "# Determine the number of samples for each label\n",
        "label_counts = np.sum(Y_train, axis=0)\n",
        "\n",
        "# Find the minimum number of samples among all labels\n",
        "#max_samples = np.max(label_counts)\n",
        "min_samples = np.min(label_counts)\n",
        "\n",
        "# Resample X_train and Y_train to have the same number of samples for each label\n",
        "resampled_X_train = []\n",
        "resampled_Y_train = []\n",
        "for label_idx in range(Y_train.shape[1]):\n",
        "    # Get indices of samples with the current label\n",
        "    label_indices = np.where(Y_train[:, label_idx] == 1)[0]\n",
        "    selected_indices = np.random.choice(label_indices, min_samples, replace=False)\n",
        "    #selected_indices = np.concatenate((selected_indices, np.random.choice(label_indices, max_samples - min_samples, replace=True)), axis = 0)\n",
        "\n",
        "    # Add the corresponding samples from X_train and Y_train to the resampled data\n",
        "    resampled_X_train.extend(X_train[selected_indices])\n",
        "    resampled_Y_train.extend(Y_train[selected_indices])\n",
        "\n",
        "# Convert the lists of samples to numpy arrays\n",
        "resampled_X_train = np.array(resampled_X_train)\n",
        "resampled_Y_train = np.array(resampled_Y_train)\n",
        "\n",
        "# Suffling the datasets\n",
        "indexes = [i for i in range(resampled_X_train.shape[0])]\n",
        "np.random.shuffle(indexes)\n",
        "\n",
        "resampled_X_train = resampled_X_train[indexes]\n",
        "resampled_Y_train = resampled_Y_train[indexes]\n",
        "\n",
        "# Check the shape of the resampled X_train and Y_train\n",
        "print(\"Resampled X_train shape:\", resampled_X_train.shape)\n",
        "print(\"Resampled Y_train shape:\", resampled_Y_train.shape)"
      ]
    },
    {
      "cell_type": "markdown",
      "metadata": {
        "id": "agazpjlE_3h5"
      },
      "source": [
        "Finnaly, let's add **noise** to the datapoints to improve the generalisation."
      ]
    },
    {
      "cell_type": "code",
      "execution_count": 18,
      "metadata": {
        "id": "DBnyIEFz_i_J"
      },
      "outputs": [],
      "source": [
        "# Building the noise\n",
        "mean = 0\n",
        "sigma = 0.001\n",
        "noise = np.random.normal(mean, sigma, resampled_X_train.shape)\n",
        "\n",
        "# Adding it to the data\n",
        "noised_resampled_X_train = resampled_X_train + noise\n",
        "noised_resampled_Y_train = resampled_Y_train\n",
        "\n",
        "# Resetting the padding value\n",
        "noised_resampled_X_train[noised_resampled_X_train < 0] = pad_value\n",
        "\n",
        "# Suffling the datasets\n",
        "indexes = [i for i in range(resampled_X_train.shape[0])]\n",
        "np.random.shuffle(indexes)\n",
        "\n",
        "noised_resampled_X_train = resampled_X_train[indexes]\n",
        "noised_resampled_Y_train = resampled_Y_train[indexes]\n",
        "\n"
      ]
    },
    {
      "cell_type": "markdown",
      "metadata": {
        "id": "JCBozOwElNU6"
      },
      "source": [
        "We finally have a dataset that can be used for training a model.\n",
        "Some improvement that ce be thought for later investigations :\n",
        "1. Resampling to have the same amount of data per sign,\n",
        "2. Not using phrases, only teckens,\n",
        "3. Add noise to the labels to improve generalisation.\n",
        "\n",
        "This has been done. The test set contains a single token of each sign."
      ]
    },
    {
      "cell_type": "markdown",
      "metadata": {
        "id": "KSD4ti_Ml5o8"
      },
      "source": [
        "## Model creation"
      ]
    },
    {
      "cell_type": "markdown",
      "metadata": {
        "id": "LVADasigl89P"
      },
      "source": [
        "Videos are time-series based data. We will use RNNs based on LSTM units to train our model."
      ]
    },
    {
      "cell_type": "code",
      "execution_count": 74,
      "metadata": {
        "id": "m5FcDOHMlgTP"
      },
      "outputs": [],
      "source": [
        "# Module to run the ANN model\n",
        "from tensorflow import keras\n",
        "from keras.models import Sequential\n",
        "from keras.layers import LSTM, Dense, Masking\n",
        "from keras.callbacks import TensorBoard, EarlyStopping\n",
        "\n",
        "# LSTM model to perform sign classification given key positions\n",
        "class SignClassifier(keras.Model) :\n",
        "    def __init__(self, input_shape, output_shape, epochs, pad_value):\n",
        "        \"\"\"\n",
        "        Initializes the SignClassifier object.\n",
        "\n",
        "        Args:\n",
        "            input_shape (tuple): The shape of the input data (nb_frames, frame_features_nb)\n",
        "            output_shape (tuple): The shape of the output data (class_nb,)\n",
        "            epochs (int): The number of epochs to train the model. Recommended : 2000\n",
        "\n",
        "        Returns:\n",
        "            None\n",
        "        \"\"\"\n",
        "\n",
        "        super(SignClassifier, self).__init__()\n",
        "\n",
        "        # Parameters of the model\n",
        "        self.input_shpe = input_shape\n",
        "        self.output_shpe = output_shape\n",
        "        self.log_dir = os.path.join('logs')\n",
        "        self.tb_callback = TensorBoard(log_dir=self.log_dir)\n",
        "        self.early_stopping = EarlyStopping(patience = 5, restore_best_weights = True)\n",
        "        self.epochs = epochs\n",
        "        self.pad_value = pad_value\n",
        "\n",
        "        # Building model\n",
        "        self.build_model()\n",
        "\n",
        "    def build_model(self) :\n",
        "        self.model = Sequential()\n",
        "\n",
        "        # From one LSTM layer to another, the output is used as input of the next one\n",
        "        self.model.add(Masking(mask_value=self.pad_value, input_shape=self.input_shpe))\n",
        "        self.model.add(LSTM(64, activation='tanh', return_sequences = True))\n",
        "        self.model.add(LSTM(128, activation='tanh', return_sequences = True))\n",
        "        self.model.add(LSTM(64, activation='tanh', return_sequences = False))\n",
        "\n",
        "        # Now, we keep the values of the short-memory and long-memory to perform classification\n",
        "        self.model.add(Dense(64, activation='relu'))\n",
        "        self.model.add(Dense(32, activation='relu'))\n",
        "\n",
        "        # Finally adding the output layer\n",
        "        self.model.add(Dense(self.output_shpe, activation='softmax'))\n",
        "\n",
        "        # Compiling the model\n",
        "        opt = keras.optimizers.Adam(clipnorm=1.0)\n",
        "        self.model.compile(optimizer=opt, loss='categorical_crossentropy', metrics=['categorical_accuracy'])\n",
        "\n",
        "    def fit(self, X_train, Y_train, X_val, Y_val) :\n",
        "        return self.model.fit(X_train, Y_train, validation_data=(X_val, Y_val), epochs=self.epochs, callbacks=[self.tb_callback, self.early_stopping])\n",
        "\n",
        "    def fit(self, X_train, Y_train) :\n",
        "        return self.model.fit(X_train, Y_train, epochs=self.epochs, callbacks=[self.tb_callback])\n",
        "\n",
        "    def predict(self, X) :\n",
        "        return self.model.predict(X)"
      ]
    },
    {
      "cell_type": "markdown",
      "metadata": {
        "id": "1yX1-HcHnSTV"
      },
      "source": [
        "## Fitting the model to the data"
      ]
    },
    {
      "cell_type": "code",
      "execution_count": 88,
      "metadata": {
        "id": "rXGrENatDk-a"
      },
      "outputs": [],
      "source": [
        "import matplotlib.pyplot as plt\n",
        "\n",
        "# Function that allows the training of the model\n",
        "def training(X_train, Y_train) :\n",
        "  # training the model\n",
        "  model = SignClassifier(input_shape = tuple(X_train.shape[1:]), output_shape = Y_train.shape[1], epochs = 150, pad_value = pad_value)\n",
        "  history = model.fit(X_train, Y_train)\n",
        "  return model, history\n",
        "\n",
        "def training_val(X_train, Y_train, X_val, Y_val) :\n",
        "  # training the model\n",
        "  model = SignClassifier(input_shape = tuple(X_train.shape[1:]), output_shape = Y_train.shape[1], epochs = 100, pad_value = pad_value)\n",
        "  history = model.fit(X_train, Y_train, X_val, Y_val)\n",
        "  return model, history\n",
        "\n",
        "# Function that allows to compute the accuracy of the model\n",
        "def get_accuracy(Y_true, Y_pred) :\n",
        "  correct_pred = 0\n",
        "  for i in range(Y_true.shape[0]) :\n",
        "    if np.array_equal(Y_true[i], Y_pred[i]) :\n",
        "      correct_pred += 1\n",
        "  accuracy = correct_pred / Y_true.shape[0]\n",
        "  return accuracy\n",
        "\n",
        "# Function that gathers all the performances of the model\n",
        "def model_performances(X_train, Y_train, X_test, Y_test, model, history) :\n",
        "\n",
        "  # Testing the model on the train and test sets\n",
        "  Y_test_predicted = model.predict(X_test)\n",
        "  Y_train_predicted = model.predict(X_train)\n",
        "\n",
        "  max_values = np.max(Y_test_predicted, axis=1)\n",
        "  Y_test_predicted_decision = np.where(Y_test_predicted == max_values[:, np.newaxis], 1, 0)\n",
        "\n",
        "  max_values = np.max(Y_train_predicted, axis=1)\n",
        "  Y_train_predicted_decision = np.where(Y_train_predicted == max_values[:, np.newaxis], 1, 0)\n",
        "\n",
        "  # Getting test and train prediction accuracy\n",
        "  train_accuracy = get_accuracy(Y_train, Y_train_predicted_decision)\n",
        "  print(\"Prediction precision on the train set : \", np.round(train_accuracy,3)*100, \"%\")\n",
        "\n",
        "  test_accuracy = get_accuracy(Y_test, Y_test_predicted_decision)\n",
        "  print(\"Prediction precision on the test set : \", test_accuracy*100, \"%\")\n",
        "\n",
        "  # Plotting the evolution of the metrics\n",
        "  plt.figure()\n",
        "  plt.plot(history.history['loss']/np.max(history.history['loss']), label='training loss')\n",
        "  plt.plot(history.history['categorical_accuracy'], label='categorical accuracy')\n",
        "  #plt.plot(history.history['val_loss']/np.max(history.history['val_loss']), label='validation loss')\n",
        "  plt.title(\"Metrics evolution across training epochs\")\n",
        "  plt.legend()\n",
        "  plt.xlabel('Epochs')\n",
        "  plt.show()\n"
      ]
    },
    {
      "cell_type": "code",
      "execution_count": 89,
      "metadata": {
        "id": "OkeMw7eDG9ng"
      },
      "outputs": [],
      "source": [
        "val_size = 0"
      ]
    },
    {
      "cell_type": "markdown",
      "metadata": {
        "id": "wwPYdYCyDdK7"
      },
      "source": [
        "### 1. Training data with resampling"
      ]
    },
    {
      "cell_type": "code",
      "execution_count": 90,
      "metadata": {
        "colab": {
          "base_uri": "https://localhost:8080/"
        },
        "id": "l0k_wAT0GRBj",
        "outputId": "f253e9e1-d4f9-43e2-c74c-8a60e6ee67db"
      },
      "outputs": [
        {
          "name": "stdout",
          "output_type": "stream",
          "text": [
            "Epoch 1/150\n",
            "2/2 [==============================] - 19s 380ms/step - loss: 2.3081 - categorical_accuracy: 0.1167\n",
            "Epoch 2/150\n",
            "2/2 [==============================] - 1s 371ms/step - loss: 2.3002 - categorical_accuracy: 0.1000\n",
            "Epoch 3/150\n",
            "2/2 [==============================] - 1s 417ms/step - loss: 2.3020 - categorical_accuracy: 0.1167\n",
            "Epoch 4/150\n",
            "2/2 [==============================] - 1s 390ms/step - loss: 2.2875 - categorical_accuracy: 0.1667\n",
            "Epoch 5/150\n",
            "2/2 [==============================] - 1s 375ms/step - loss: 2.2807 - categorical_accuracy: 0.2000\n",
            "Epoch 6/150\n",
            "2/2 [==============================] - 1s 375ms/step - loss: 2.2651 - categorical_accuracy: 0.2333\n",
            "Epoch 7/150\n",
            "2/2 [==============================] - 1s 405ms/step - loss: 2.2547 - categorical_accuracy: 0.1833\n",
            "Epoch 8/150\n",
            "2/2 [==============================] - 1s 364ms/step - loss: 2.2357 - categorical_accuracy: 0.1667\n",
            "Epoch 9/150\n",
            "2/2 [==============================] - 1s 369ms/step - loss: 2.2147 - categorical_accuracy: 0.2167\n",
            "Epoch 10/150\n",
            "2/2 [==============================] - 1s 415ms/step - loss: 2.1753 - categorical_accuracy: 0.3000\n",
            "Epoch 11/150\n",
            "2/2 [==============================] - 1s 388ms/step - loss: 2.1297 - categorical_accuracy: 0.3333\n",
            "Epoch 12/150\n",
            "2/2 [==============================] - 1s 363ms/step - loss: 2.0991 - categorical_accuracy: 0.3000\n",
            "Epoch 13/150\n",
            "2/2 [==============================] - 1s 371ms/step - loss: 2.0374 - categorical_accuracy: 0.4000\n",
            "Epoch 14/150\n",
            "2/2 [==============================] - 1s 404ms/step - loss: 1.9627 - categorical_accuracy: 0.3833\n",
            "Epoch 15/150\n",
            "2/2 [==============================] - 1s 373ms/step - loss: 1.9050 - categorical_accuracy: 0.3500\n",
            "Epoch 16/150\n",
            "2/2 [==============================] - 1s 396ms/step - loss: 1.8545 - categorical_accuracy: 0.3667\n",
            "Epoch 17/150\n",
            "2/2 [==============================] - 1s 403ms/step - loss: 1.8191 - categorical_accuracy: 0.3667\n",
            "Epoch 18/150\n",
            "2/2 [==============================] - 1s 410ms/step - loss: 1.7345 - categorical_accuracy: 0.4167\n",
            "Epoch 19/150\n",
            "2/2 [==============================] - 1s 383ms/step - loss: 1.9724 - categorical_accuracy: 0.3500\n",
            "Epoch 20/150\n",
            "2/2 [==============================] - 1s 387ms/step - loss: 1.7507 - categorical_accuracy: 0.4167\n",
            "Epoch 21/150\n",
            "2/2 [==============================] - 1s 416ms/step - loss: 1.7412 - categorical_accuracy: 0.4333\n",
            "Epoch 22/150\n",
            "2/2 [==============================] - 1s 378ms/step - loss: 1.6560 - categorical_accuracy: 0.4667\n",
            "Epoch 23/150\n",
            "2/2 [==============================] - 1s 370ms/step - loss: 1.5935 - categorical_accuracy: 0.4167\n",
            "Epoch 24/150\n",
            "2/2 [==============================] - 1s 368ms/step - loss: 1.5246 - categorical_accuracy: 0.5167\n",
            "Epoch 25/150\n",
            "2/2 [==============================] - 1s 405ms/step - loss: 1.4828 - categorical_accuracy: 0.5167\n",
            "Epoch 26/150\n",
            "2/2 [==============================] - 1s 359ms/step - loss: 1.5077 - categorical_accuracy: 0.4667\n",
            "Epoch 27/150\n",
            "2/2 [==============================] - 1s 369ms/step - loss: 1.4792 - categorical_accuracy: 0.4667\n",
            "Epoch 28/150\n",
            "2/2 [==============================] - 1s 408ms/step - loss: 1.4958 - categorical_accuracy: 0.4667\n",
            "Epoch 29/150\n",
            "2/2 [==============================] - 1s 383ms/step - loss: 1.5148 - categorical_accuracy: 0.4500\n",
            "Epoch 30/150\n",
            "2/2 [==============================] - 1s 378ms/step - loss: 1.4561 - categorical_accuracy: 0.4667\n",
            "Epoch 31/150\n",
            "2/2 [==============================] - 1s 365ms/step - loss: 1.3722 - categorical_accuracy: 0.5167\n",
            "Epoch 32/150\n",
            "2/2 [==============================] - 1s 424ms/step - loss: 1.3361 - categorical_accuracy: 0.5667\n",
            "Epoch 33/150\n",
            "2/2 [==============================] - 1s 378ms/step - loss: 1.3084 - categorical_accuracy: 0.6167\n",
            "Epoch 34/150\n",
            "2/2 [==============================] - 1s 371ms/step - loss: 1.2190 - categorical_accuracy: 0.6333\n",
            "Epoch 35/150\n",
            "2/2 [==============================] - 1s 419ms/step - loss: 1.3469 - categorical_accuracy: 0.5333\n",
            "Epoch 36/150\n",
            "2/2 [==============================] - 1s 409ms/step - loss: 1.2464 - categorical_accuracy: 0.5500\n",
            "Epoch 37/150\n",
            "2/2 [==============================] - 1s 378ms/step - loss: 1.3015 - categorical_accuracy: 0.4833\n",
            "Epoch 38/150\n",
            "2/2 [==============================] - 1s 379ms/step - loss: 1.2092 - categorical_accuracy: 0.5167\n",
            "Epoch 39/150\n",
            "2/2 [==============================] - 1s 429ms/step - loss: 1.2363 - categorical_accuracy: 0.5167\n",
            "Epoch 40/150\n",
            "2/2 [==============================] - 1s 376ms/step - loss: 1.1470 - categorical_accuracy: 0.5833\n",
            "Epoch 41/150\n",
            "2/2 [==============================] - 1s 365ms/step - loss: 1.1278 - categorical_accuracy: 0.5833\n",
            "Epoch 42/150\n",
            "2/2 [==============================] - 1s 379ms/step - loss: 1.1047 - categorical_accuracy: 0.6167\n",
            "Epoch 43/150\n",
            "2/2 [==============================] - 1s 419ms/step - loss: 1.0167 - categorical_accuracy: 0.6833\n",
            "Epoch 44/150\n",
            "2/2 [==============================] - 1s 376ms/step - loss: 1.0058 - categorical_accuracy: 0.6500\n",
            "Epoch 45/150\n",
            "2/2 [==============================] - 1s 361ms/step - loss: 1.1110 - categorical_accuracy: 0.6000\n",
            "Epoch 46/150\n",
            "2/2 [==============================] - 1s 421ms/step - loss: 1.1118 - categorical_accuracy: 0.6000\n",
            "Epoch 47/150\n",
            "2/2 [==============================] - 1s 436ms/step - loss: 1.1149 - categorical_accuracy: 0.6333\n",
            "Epoch 48/150\n",
            "2/2 [==============================] - 1s 359ms/step - loss: 0.9810 - categorical_accuracy: 0.7000\n",
            "Epoch 49/150\n",
            "2/2 [==============================] - 1s 374ms/step - loss: 0.9543 - categorical_accuracy: 0.6833\n",
            "Epoch 50/150\n",
            "2/2 [==============================] - 1s 405ms/step - loss: 0.8944 - categorical_accuracy: 0.7333\n",
            "Epoch 51/150\n",
            "2/2 [==============================] - 1s 360ms/step - loss: 0.9415 - categorical_accuracy: 0.6500\n",
            "Epoch 52/150\n",
            "2/2 [==============================] - 1s 447ms/step - loss: 0.7861 - categorical_accuracy: 0.7500\n",
            "Epoch 53/150\n",
            "2/2 [==============================] - 1s 471ms/step - loss: 0.8076 - categorical_accuracy: 0.7500\n",
            "Epoch 54/150\n",
            "2/2 [==============================] - 1s 345ms/step - loss: 0.8058 - categorical_accuracy: 0.7000\n",
            "Epoch 55/150\n",
            "2/2 [==============================] - 1s 320ms/step - loss: 0.9848 - categorical_accuracy: 0.7000\n",
            "Epoch 56/150\n",
            "2/2 [==============================] - 1s 305ms/step - loss: 1.0838 - categorical_accuracy: 0.6667\n",
            "Epoch 57/150\n",
            "2/2 [==============================] - 1s 290ms/step - loss: 0.8600 - categorical_accuracy: 0.6833\n",
            "Epoch 58/150\n",
            "2/2 [==============================] - 1s 305ms/step - loss: 0.7869 - categorical_accuracy: 0.6667\n",
            "Epoch 59/150\n",
            "2/2 [==============================] - 1s 337ms/step - loss: 1.1503 - categorical_accuracy: 0.6000\n",
            "Epoch 60/150\n",
            "2/2 [==============================] - 1s 331ms/step - loss: 1.0017 - categorical_accuracy: 0.7000\n",
            "Epoch 61/150\n",
            "2/2 [==============================] - 1s 321ms/step - loss: 0.9194 - categorical_accuracy: 0.6667\n",
            "Epoch 62/150\n",
            "2/2 [==============================] - 1s 346ms/step - loss: 0.8089 - categorical_accuracy: 0.7500\n",
            "Epoch 63/150\n",
            "2/2 [==============================] - 1s 307ms/step - loss: 0.6989 - categorical_accuracy: 0.8167\n",
            "Epoch 64/150\n",
            "2/2 [==============================] - 1s 331ms/step - loss: 0.7524 - categorical_accuracy: 0.7167\n",
            "Epoch 65/150\n",
            "2/2 [==============================] - 1s 302ms/step - loss: 0.7309 - categorical_accuracy: 0.7500\n",
            "Epoch 66/150\n",
            "2/2 [==============================] - 1s 318ms/step - loss: 0.6683 - categorical_accuracy: 0.8000\n",
            "Epoch 67/150\n",
            "2/2 [==============================] - 1s 332ms/step - loss: 0.6137 - categorical_accuracy: 0.7833\n",
            "Epoch 68/150\n",
            "2/2 [==============================] - 1s 311ms/step - loss: 0.7332 - categorical_accuracy: 0.7667\n",
            "Epoch 69/150\n",
            "2/2 [==============================] - 1s 440ms/step - loss: 0.7321 - categorical_accuracy: 0.7167\n",
            "Epoch 70/150\n",
            "2/2 [==============================] - 1s 528ms/step - loss: 0.7237 - categorical_accuracy: 0.7333\n",
            "Epoch 71/150\n",
            "2/2 [==============================] - 1s 545ms/step - loss: 0.8100 - categorical_accuracy: 0.7167\n",
            "Epoch 72/150\n",
            "2/2 [==============================] - 1s 486ms/step - loss: 0.5693 - categorical_accuracy: 0.7833\n",
            "Epoch 73/150\n",
            "2/2 [==============================] - 1s 502ms/step - loss: 0.5503 - categorical_accuracy: 0.7833\n",
            "Epoch 74/150\n",
            "2/2 [==============================] - 1s 541ms/step - loss: 0.5739 - categorical_accuracy: 0.7833\n",
            "Epoch 75/150\n",
            "2/2 [==============================] - 1s 377ms/step - loss: 0.5752 - categorical_accuracy: 0.7500\n",
            "Epoch 76/150\n",
            "2/2 [==============================] - 1s 365ms/step - loss: 0.5875 - categorical_accuracy: 0.8333\n",
            "Epoch 77/150\n",
            "2/2 [==============================] - 1s 379ms/step - loss: 0.8047 - categorical_accuracy: 0.7000\n",
            "Epoch 78/150\n",
            "2/2 [==============================] - 1s 410ms/step - loss: 0.5376 - categorical_accuracy: 0.8833\n",
            "Epoch 79/150\n",
            "2/2 [==============================] - 1s 371ms/step - loss: 0.7652 - categorical_accuracy: 0.7167\n",
            "Epoch 80/150\n",
            "2/2 [==============================] - 1s 366ms/step - loss: 0.5111 - categorical_accuracy: 0.8167\n",
            "Epoch 81/150\n",
            "2/2 [==============================] - 1s 435ms/step - loss: 0.5724 - categorical_accuracy: 0.8333\n",
            "Epoch 82/150\n",
            "2/2 [==============================] - 1s 405ms/step - loss: 0.4851 - categorical_accuracy: 0.8000\n",
            "Epoch 83/150\n",
            "2/2 [==============================] - 1s 381ms/step - loss: 0.6324 - categorical_accuracy: 0.7167\n",
            "Epoch 84/150\n",
            "2/2 [==============================] - 1s 366ms/step - loss: 0.6516 - categorical_accuracy: 0.6833\n",
            "Epoch 85/150\n",
            "2/2 [==============================] - 1s 419ms/step - loss: 0.6886 - categorical_accuracy: 0.7333\n",
            "Epoch 86/150\n",
            "2/2 [==============================] - 1s 408ms/step - loss: 0.5189 - categorical_accuracy: 0.8167\n",
            "Epoch 87/150\n",
            "2/2 [==============================] - 1s 376ms/step - loss: 0.4647 - categorical_accuracy: 0.8333\n",
            "Epoch 88/150\n",
            "2/2 [==============================] - 1s 394ms/step - loss: 0.4758 - categorical_accuracy: 0.8500\n",
            "Epoch 89/150\n",
            "2/2 [==============================] - 1s 429ms/step - loss: 0.4213 - categorical_accuracy: 0.8667\n",
            "Epoch 90/150\n",
            "2/2 [==============================] - 1s 379ms/step - loss: 0.5499 - categorical_accuracy: 0.7500\n",
            "Epoch 91/150\n",
            "2/2 [==============================] - 1s 376ms/step - loss: 0.4319 - categorical_accuracy: 0.8333\n",
            "Epoch 92/150\n",
            "2/2 [==============================] - 1s 407ms/step - loss: 0.4203 - categorical_accuracy: 0.8500\n",
            "Epoch 93/150\n",
            "2/2 [==============================] - 1s 404ms/step - loss: 0.5000 - categorical_accuracy: 0.8333\n",
            "Epoch 94/150\n",
            "2/2 [==============================] - 1s 354ms/step - loss: 0.5039 - categorical_accuracy: 0.8333\n",
            "Epoch 95/150\n",
            "2/2 [==============================] - 1s 393ms/step - loss: 0.4460 - categorical_accuracy: 0.8000\n",
            "Epoch 96/150\n",
            "2/2 [==============================] - 1s 394ms/step - loss: 0.3818 - categorical_accuracy: 0.8833\n",
            "Epoch 97/150\n",
            "2/2 [==============================] - 1s 366ms/step - loss: 0.3821 - categorical_accuracy: 0.8500\n",
            "Epoch 98/150\n",
            "2/2 [==============================] - 1s 379ms/step - loss: 0.4726 - categorical_accuracy: 0.8667\n",
            "Epoch 99/150\n",
            "2/2 [==============================] - 1s 376ms/step - loss: 0.4009 - categorical_accuracy: 0.9000\n",
            "Epoch 100/150\n",
            "2/2 [==============================] - 1s 434ms/step - loss: 0.4226 - categorical_accuracy: 0.8500\n",
            "Epoch 101/150\n",
            "2/2 [==============================] - 1s 379ms/step - loss: 0.3804 - categorical_accuracy: 0.8667\n",
            "Epoch 102/150\n",
            "2/2 [==============================] - 1s 378ms/step - loss: 0.3437 - categorical_accuracy: 0.9000\n",
            "Epoch 103/150\n",
            "2/2 [==============================] - 1s 402ms/step - loss: 0.3038 - categorical_accuracy: 0.8667\n",
            "Epoch 104/150\n",
            "2/2 [==============================] - 1s 446ms/step - loss: 0.2668 - categorical_accuracy: 0.9500\n",
            "Epoch 105/150\n",
            "2/2 [==============================] - 1s 403ms/step - loss: 0.2650 - categorical_accuracy: 0.9000\n",
            "Epoch 106/150\n",
            "2/2 [==============================] - 1s 382ms/step - loss: 0.2344 - categorical_accuracy: 0.9333\n",
            "Epoch 107/150\n",
            "2/2 [==============================] - 1s 373ms/step - loss: 0.1932 - categorical_accuracy: 0.9667\n",
            "Epoch 108/150\n",
            "2/2 [==============================] - 1s 430ms/step - loss: 0.4727 - categorical_accuracy: 0.8333\n",
            "Epoch 109/150\n",
            "2/2 [==============================] - 1s 376ms/step - loss: 0.2286 - categorical_accuracy: 0.9333\n",
            "Epoch 110/150\n",
            "2/2 [==============================] - 1s 373ms/step - loss: 0.3632 - categorical_accuracy: 0.8667\n",
            "Epoch 111/150\n",
            "2/2 [==============================] - 1s 413ms/step - loss: 0.2463 - categorical_accuracy: 0.9333\n",
            "Epoch 112/150\n",
            "2/2 [==============================] - 1s 412ms/step - loss: 0.5349 - categorical_accuracy: 0.8167\n",
            "Epoch 113/150\n",
            "2/2 [==============================] - 1s 403ms/step - loss: 0.3015 - categorical_accuracy: 0.8667\n",
            "Epoch 114/150\n",
            "2/2 [==============================] - 1s 400ms/step - loss: 0.4176 - categorical_accuracy: 0.8500\n",
            "Epoch 115/150\n",
            "2/2 [==============================] - 1s 443ms/step - loss: 0.5645 - categorical_accuracy: 0.8333\n",
            "Epoch 116/150\n",
            "2/2 [==============================] - 1s 425ms/step - loss: 0.2439 - categorical_accuracy: 0.9000\n",
            "Epoch 117/150\n",
            "2/2 [==============================] - 1s 408ms/step - loss: 0.3058 - categorical_accuracy: 0.9167\n",
            "Epoch 118/150\n",
            "2/2 [==============================] - 1s 387ms/step - loss: 0.2363 - categorical_accuracy: 0.9333\n",
            "Epoch 119/150\n",
            "2/2 [==============================] - 1s 436ms/step - loss: 0.2220 - categorical_accuracy: 0.9333\n",
            "Epoch 120/150\n",
            "2/2 [==============================] - 1s 426ms/step - loss: 0.1518 - categorical_accuracy: 1.0000\n",
            "Epoch 121/150\n",
            "2/2 [==============================] - 1s 378ms/step - loss: 0.3022 - categorical_accuracy: 0.9167\n",
            "Epoch 122/150\n",
            "2/2 [==============================] - 1s 418ms/step - loss: 0.2295 - categorical_accuracy: 0.9333\n",
            "Epoch 123/150\n",
            "2/2 [==============================] - 1s 423ms/step - loss: 0.1348 - categorical_accuracy: 0.9833\n",
            "Epoch 124/150\n",
            "2/2 [==============================] - 1s 451ms/step - loss: 0.1731 - categorical_accuracy: 0.9500\n",
            "Epoch 125/150\n",
            "2/2 [==============================] - 1s 378ms/step - loss: 0.1270 - categorical_accuracy: 0.9667\n",
            "Epoch 126/150\n",
            "2/2 [==============================] - 1s 400ms/step - loss: 0.1123 - categorical_accuracy: 1.0000\n",
            "Epoch 127/150\n",
            "2/2 [==============================] - 1s 385ms/step - loss: 0.2040 - categorical_accuracy: 0.9500\n",
            "Epoch 128/150\n",
            "2/2 [==============================] - 1s 427ms/step - loss: 0.5311 - categorical_accuracy: 0.8167\n",
            "Epoch 129/150\n",
            "2/2 [==============================] - 1s 391ms/step - loss: 0.4172 - categorical_accuracy: 0.8667\n",
            "Epoch 130/150\n",
            "2/2 [==============================] - 1s 414ms/step - loss: 0.2513 - categorical_accuracy: 0.9500\n",
            "Epoch 131/150\n",
            "2/2 [==============================] - 1s 381ms/step - loss: 0.2176 - categorical_accuracy: 0.9333\n",
            "Epoch 132/150\n",
            "2/2 [==============================] - 1s 417ms/step - loss: 0.2609 - categorical_accuracy: 0.9167\n",
            "Epoch 133/150\n",
            "2/2 [==============================] - 1s 388ms/step - loss: 0.2271 - categorical_accuracy: 0.9667\n",
            "Epoch 134/150\n",
            "2/2 [==============================] - 1s 383ms/step - loss: 0.1246 - categorical_accuracy: 1.0000\n",
            "Epoch 135/150\n",
            "2/2 [==============================] - 1s 448ms/step - loss: 0.1170 - categorical_accuracy: 1.0000\n",
            "Epoch 136/150\n",
            "2/2 [==============================] - 1s 443ms/step - loss: 0.1099 - categorical_accuracy: 0.9833\n",
            "Epoch 137/150\n",
            "2/2 [==============================] - 1s 393ms/step - loss: 0.1143 - categorical_accuracy: 0.9833\n",
            "Epoch 138/150\n",
            "2/2 [==============================] - 1s 365ms/step - loss: 0.1697 - categorical_accuracy: 0.9333\n",
            "Epoch 139/150\n",
            "2/2 [==============================] - 1s 412ms/step - loss: 0.1568 - categorical_accuracy: 0.9500\n",
            "Epoch 140/150\n",
            "2/2 [==============================] - 1s 436ms/step - loss: 0.0988 - categorical_accuracy: 0.9833\n",
            "Epoch 141/150\n",
            "2/2 [==============================] - 1s 388ms/step - loss: 0.1506 - categorical_accuracy: 0.9167\n",
            "Epoch 142/150\n",
            "2/2 [==============================] - 1s 401ms/step - loss: 0.1744 - categorical_accuracy: 0.9500\n",
            "Epoch 143/150\n",
            "2/2 [==============================] - 1s 416ms/step - loss: 0.1110 - categorical_accuracy: 0.9833\n",
            "Epoch 144/150\n",
            "2/2 [==============================] - 1s 556ms/step - loss: 0.3820 - categorical_accuracy: 0.8500\n",
            "Epoch 145/150\n",
            "2/2 [==============================] - 1s 361ms/step - loss: 0.1630 - categorical_accuracy: 0.9333\n",
            "Epoch 146/150\n",
            "2/2 [==============================] - 1s 308ms/step - loss: 0.1046 - categorical_accuracy: 0.9667\n",
            "Epoch 147/150\n",
            "2/2 [==============================] - 1s 351ms/step - loss: 0.1056 - categorical_accuracy: 0.9667\n",
            "Epoch 148/150\n",
            "2/2 [==============================] - 1s 310ms/step - loss: 0.1053 - categorical_accuracy: 0.9500\n",
            "Epoch 149/150\n",
            "2/2 [==============================] - 1s 310ms/step - loss: 0.1026 - categorical_accuracy: 0.9500\n",
            "Epoch 150/150\n",
            "2/2 [==============================] - 1s 349ms/step - loss: 0.0539 - categorical_accuracy: 1.0000\n"
          ]
        }
      ],
      "source": [
        "resampled_model, resampled_history = training(resampled_X_train, resampled_Y_train) #training_val(resampled_X_train[:-val_size], resampled_Y_train[:-val_size], resampled_X_train[-val_size:], resampled_Y_train[-val_size:])"
      ]
    },
    {
      "cell_type": "code",
      "execution_count": 91,
      "metadata": {
        "colab": {
          "base_uri": "https://localhost:8080/",
          "height": 541
        },
        "id": "yAnPMBPZG3Yn",
        "outputId": "732aa3ef-b76c-427b-dc87-131e8e47ca87"
      },
      "outputs": [
        {
          "name": "stdout",
          "output_type": "stream",
          "text": [
            "1/1 [==============================] - 5s 5s/step\n",
            "2/2 [==============================] - 0s 94ms/step\n",
            "Prediction precision on the train set :  100.0 %\n",
            "Prediction precision on the test set :  40.0 %\n"
          ]
        },
        {
          "data": {
            "image/png": "[encoded data removed]",
            "text/plain": [
              "<Figure size 640x480 with 1 Axes>"
            ]
          },
          "metadata": {},
          "output_type": "display_data"
        }
      ],
      "source": [
        "#model_performances(resampled_X_train[:-val_size], resampled_Y_train[:-val_size], X_test, Y_test, resampled_model, resampled_history)\n",
        "model_performances(resampled_X_train, resampled_Y_train, X_test, Y_test, resampled_model, resampled_history)"
      ]
    },
    {
      "cell_type": "markdown",
      "metadata": {
        "id": "vwEHJJgBDe_B"
      },
      "source": [
        "### 2. Training data with resampling and noise"
      ]
    },
    {
      "cell_type": "code",
      "execution_count": 92,
      "metadata": {
        "colab": {
          "base_uri": "https://localhost:8080/"
        },
        "id": "SEVWi2_RGSVW",
        "outputId": "3da098b0-26b5-4a46-d1ff-10e9205bfb2d"
      },
      "outputs": [
        {
          "name": "stdout",
          "output_type": "stream",
          "text": [
            "Epoch 1/150\n",
            "2/2 [==============================] - 19s 366ms/step - loss: 2.3058 - categorical_accuracy: 0.0833\n",
            "Epoch 2/150\n",
            "2/2 [==============================] - 1s 376ms/step - loss: 2.3030 - categorical_accuracy: 0.1000\n",
            "Epoch 3/150\n",
            "2/2 [==============================] - 1s 346ms/step - loss: 2.2944 - categorical_accuracy: 0.1167\n",
            "Epoch 4/150\n",
            "2/2 [==============================] - 1s 336ms/step - loss: 2.2867 - categorical_accuracy: 0.1167\n",
            "Epoch 5/150\n",
            "2/2 [==============================] - 1s 360ms/step - loss: 2.2762 - categorical_accuracy: 0.1500\n",
            "Epoch 6/150\n",
            "2/2 [==============================] - 1s 351ms/step - loss: 2.2569 - categorical_accuracy: 0.2167\n",
            "Epoch 7/150\n",
            "2/2 [==============================] - 1s 364ms/step - loss: 2.2308 - categorical_accuracy: 0.2667\n",
            "Epoch 8/150\n",
            "2/2 [==============================] - 1s 386ms/step - loss: 2.1948 - categorical_accuracy: 0.2833\n",
            "Epoch 9/150\n",
            "2/2 [==============================] - 1s 349ms/step - loss: 2.1564 - categorical_accuracy: 0.3000\n",
            "Epoch 10/150\n",
            "2/2 [==============================] - 1s 358ms/step - loss: 2.0925 - categorical_accuracy: 0.3333\n",
            "Epoch 11/150\n",
            "2/2 [==============================] - 1s 362ms/step - loss: 2.0407 - categorical_accuracy: 0.3000\n",
            "Epoch 12/150\n",
            "2/2 [==============================] - 1s 346ms/step - loss: 1.9919 - categorical_accuracy: 0.3000\n",
            "Epoch 13/150\n",
            "2/2 [==============================] - 1s 348ms/step - loss: 1.9649 - categorical_accuracy: 0.3000\n",
            "Epoch 14/150\n",
            "2/2 [==============================] - 1s 397ms/step - loss: 1.9306 - categorical_accuracy: 0.3500\n",
            "Epoch 15/150\n",
            "2/2 [==============================] - 1s 368ms/step - loss: 1.8308 - categorical_accuracy: 0.3500\n",
            "Epoch 16/150\n",
            "2/2 [==============================] - 1s 344ms/step - loss: 1.7997 - categorical_accuracy: 0.3333\n",
            "Epoch 17/150\n",
            "2/2 [==============================] - 1s 357ms/step - loss: 1.7486 - categorical_accuracy: 0.3833\n",
            "Epoch 18/150\n",
            "2/2 [==============================] - 1s 364ms/step - loss: 1.7431 - categorical_accuracy: 0.3333\n",
            "Epoch 19/150\n",
            "2/2 [==============================] - 1s 346ms/step - loss: 1.7660 - categorical_accuracy: 0.3333\n",
            "Epoch 20/150\n",
            "2/2 [==============================] - 1s 368ms/step - loss: 1.6908 - categorical_accuracy: 0.3667\n",
            "Epoch 21/150\n",
            "2/2 [==============================] - 1s 356ms/step - loss: 1.6307 - categorical_accuracy: 0.3833\n",
            "Epoch 22/150\n",
            "2/2 [==============================] - 1s 345ms/step - loss: 1.5984 - categorical_accuracy: 0.4000\n",
            "Epoch 23/150\n",
            "2/2 [==============================] - 1s 367ms/step - loss: 1.5563 - categorical_accuracy: 0.4500\n",
            "Epoch 24/150\n",
            "2/2 [==============================] - 1s 350ms/step - loss: 1.6613 - categorical_accuracy: 0.3667\n",
            "Epoch 25/150\n",
            "2/2 [==============================] - 1s 339ms/step - loss: 1.4979 - categorical_accuracy: 0.4500\n",
            "Epoch 26/150\n",
            "2/2 [==============================] - 1s 362ms/step - loss: 1.4245 - categorical_accuracy: 0.5000\n",
            "Epoch 27/150\n",
            "2/2 [==============================] - 1s 394ms/step - loss: 1.3931 - categorical_accuracy: 0.5167\n",
            "Epoch 28/150\n",
            "2/2 [==============================] - 1s 356ms/step - loss: 1.4589 - categorical_accuracy: 0.4667\n",
            "Epoch 29/150\n",
            "2/2 [==============================] - 1s 363ms/step - loss: 1.4124 - categorical_accuracy: 0.4667\n",
            "Epoch 30/150\n",
            "2/2 [==============================] - 1s 390ms/step - loss: 1.4961 - categorical_accuracy: 0.4333\n",
            "Epoch 31/150\n",
            "2/2 [==============================] - 1s 344ms/step - loss: 1.3090 - categorical_accuracy: 0.4500\n",
            "Epoch 32/150\n",
            "2/2 [==============================] - 1s 345ms/step - loss: 1.3570 - categorical_accuracy: 0.5500\n",
            "Epoch 33/150\n",
            "2/2 [==============================] - 1s 383ms/step - loss: 1.3849 - categorical_accuracy: 0.4833\n",
            "Epoch 34/150\n",
            "2/2 [==============================] - 1s 370ms/step - loss: 1.3302 - categorical_accuracy: 0.4833\n",
            "Epoch 35/150\n",
            "2/2 [==============================] - 1s 344ms/step - loss: 1.1705 - categorical_accuracy: 0.5667\n",
            "Epoch 36/150\n",
            "2/2 [==============================] - 1s 372ms/step - loss: 1.3646 - categorical_accuracy: 0.5333\n",
            "Epoch 37/150\n",
            "2/2 [==============================] - 1s 354ms/step - loss: 1.2638 - categorical_accuracy: 0.5833\n",
            "Epoch 38/150\n",
            "2/2 [==============================] - 1s 370ms/step - loss: 1.2141 - categorical_accuracy: 0.5000\n",
            "Epoch 39/150\n",
            "2/2 [==============================] - 1s 369ms/step - loss: 1.2716 - categorical_accuracy: 0.5000\n",
            "Epoch 40/150\n",
            "2/2 [==============================] - 1s 342ms/step - loss: 1.1193 - categorical_accuracy: 0.5667\n",
            "Epoch 41/150\n",
            "2/2 [==============================] - 1s 342ms/step - loss: 1.1741 - categorical_accuracy: 0.6000\n",
            "Epoch 42/150\n",
            "2/2 [==============================] - 1s 391ms/step - loss: 1.1647 - categorical_accuracy: 0.6000\n",
            "Epoch 43/150\n",
            "2/2 [==============================] - 1s 370ms/step - loss: 1.0502 - categorical_accuracy: 0.6667\n",
            "Epoch 44/150\n",
            "2/2 [==============================] - 1s 345ms/step - loss: 1.0902 - categorical_accuracy: 0.5833\n",
            "Epoch 45/150\n",
            "2/2 [==============================] - 1s 359ms/step - loss: 1.1097 - categorical_accuracy: 0.6000\n",
            "Epoch 46/150\n",
            "2/2 [==============================] - 1s 364ms/step - loss: 1.0345 - categorical_accuracy: 0.6667\n",
            "Epoch 47/150\n",
            "2/2 [==============================] - 1s 356ms/step - loss: 0.9221 - categorical_accuracy: 0.6667\n",
            "Epoch 48/150\n",
            "2/2 [==============================] - 1s 351ms/step - loss: 0.9304 - categorical_accuracy: 0.6833\n",
            "Epoch 49/150\n",
            "2/2 [==============================] - 1s 361ms/step - loss: 0.9218 - categorical_accuracy: 0.7333\n",
            "Epoch 50/150\n",
            "2/2 [==============================] - 1s 353ms/step - loss: 0.9527 - categorical_accuracy: 0.6833\n",
            "Epoch 51/150\n",
            "2/2 [==============================] - 1s 350ms/step - loss: 0.9139 - categorical_accuracy: 0.6333\n",
            "Epoch 52/150\n",
            "2/2 [==============================] - 1s 366ms/step - loss: 0.9212 - categorical_accuracy: 0.6667\n",
            "Epoch 53/150\n",
            "2/2 [==============================] - 1s 363ms/step - loss: 0.9853 - categorical_accuracy: 0.6667\n",
            "Epoch 54/150\n",
            "2/2 [==============================] - 1s 355ms/step - loss: 0.8087 - categorical_accuracy: 0.6667\n",
            "Epoch 55/150\n",
            "2/2 [==============================] - 1s 366ms/step - loss: 0.7539 - categorical_accuracy: 0.7500\n",
            "Epoch 56/150\n",
            "2/2 [==============================] - 1s 354ms/step - loss: 0.8620 - categorical_accuracy: 0.6333\n",
            "Epoch 57/150\n",
            "2/2 [==============================] - 1s 357ms/step - loss: 0.7831 - categorical_accuracy: 0.7167\n",
            "Epoch 58/150\n",
            "2/2 [==============================] - 1s 374ms/step - loss: 0.7557 - categorical_accuracy: 0.7333\n",
            "Epoch 59/150\n",
            "2/2 [==============================] - 1s 427ms/step - loss: 0.6861 - categorical_accuracy: 0.7333\n",
            "Epoch 60/150\n",
            "2/2 [==============================] - 1s 353ms/step - loss: 0.6900 - categorical_accuracy: 0.8000\n",
            "Epoch 61/150\n",
            "2/2 [==============================] - 1s 355ms/step - loss: 0.6545 - categorical_accuracy: 0.7500\n",
            "Epoch 62/150\n",
            "2/2 [==============================] - 1s 375ms/step - loss: 0.7454 - categorical_accuracy: 0.6833\n",
            "Epoch 63/150\n",
            "2/2 [==============================] - 1s 355ms/step - loss: 0.6641 - categorical_accuracy: 0.8667\n",
            "Epoch 64/150\n",
            "2/2 [==============================] - 1s 378ms/step - loss: 0.7171 - categorical_accuracy: 0.8000\n",
            "Epoch 65/150\n",
            "2/2 [==============================] - 1s 386ms/step - loss: 0.7049 - categorical_accuracy: 0.7500\n",
            "Epoch 66/150\n",
            "2/2 [==============================] - 1s 357ms/step - loss: 0.5658 - categorical_accuracy: 0.8000\n",
            "Epoch 67/150\n",
            "2/2 [==============================] - 1s 363ms/step - loss: 0.5973 - categorical_accuracy: 0.8167\n",
            "Epoch 68/150\n",
            "2/2 [==============================] - 1s 382ms/step - loss: 0.6842 - categorical_accuracy: 0.7500\n",
            "Epoch 69/150\n",
            "2/2 [==============================] - 1s 381ms/step - loss: 0.8140 - categorical_accuracy: 0.6833\n",
            "Epoch 70/150\n",
            "2/2 [==============================] - 1s 360ms/step - loss: 0.6042 - categorical_accuracy: 0.7833\n",
            "Epoch 71/150\n",
            "2/2 [==============================] - 1s 360ms/step - loss: 0.5021 - categorical_accuracy: 0.8667\n",
            "Epoch 72/150\n",
            "2/2 [==============================] - 1s 384ms/step - loss: 0.6076 - categorical_accuracy: 0.8167\n",
            "Epoch 73/150\n",
            "2/2 [==============================] - 1s 354ms/step - loss: 0.5940 - categorical_accuracy: 0.8500\n",
            "Epoch 74/150\n",
            "2/2 [==============================] - 1s 344ms/step - loss: 0.4958 - categorical_accuracy: 0.8833\n",
            "Epoch 75/150\n",
            "2/2 [==============================] - 1s 391ms/step - loss: 0.5072 - categorical_accuracy: 0.8000\n",
            "Epoch 76/150\n",
            "2/2 [==============================] - 1s 357ms/step - loss: 0.5285 - categorical_accuracy: 0.8333\n",
            "Epoch 77/150\n",
            "2/2 [==============================] - 1s 354ms/step - loss: 0.4814 - categorical_accuracy: 0.8333\n",
            "Epoch 78/150\n",
            "2/2 [==============================] - 1s 370ms/step - loss: 0.4686 - categorical_accuracy: 0.8500\n",
            "Epoch 79/150\n",
            "2/2 [==============================] - 1s 344ms/step - loss: 0.5132 - categorical_accuracy: 0.8000\n",
            "Epoch 80/150\n",
            "2/2 [==============================] - 1s 346ms/step - loss: 0.5012 - categorical_accuracy: 0.8333\n",
            "Epoch 81/150\n",
            "2/2 [==============================] - 1s 379ms/step - loss: 0.4805 - categorical_accuracy: 0.8000\n",
            "Epoch 82/150\n",
            "2/2 [==============================] - 1s 364ms/step - loss: 0.5876 - categorical_accuracy: 0.7333\n",
            "Epoch 83/150\n",
            "2/2 [==============================] - 1s 361ms/step - loss: 0.4726 - categorical_accuracy: 0.8167\n",
            "Epoch 84/150\n",
            "2/2 [==============================] - 1s 372ms/step - loss: 0.5502 - categorical_accuracy: 0.7833\n",
            "Epoch 85/150\n",
            "2/2 [==============================] - 1s 347ms/step - loss: 0.4884 - categorical_accuracy: 0.8167\n",
            "Epoch 86/150\n",
            "2/2 [==============================] - 1s 351ms/step - loss: 0.3965 - categorical_accuracy: 0.8667\n",
            "Epoch 87/150\n",
            "2/2 [==============================] - 1s 375ms/step - loss: 0.3993 - categorical_accuracy: 0.8667\n",
            "Epoch 88/150\n",
            "2/2 [==============================] - 1s 390ms/step - loss: 0.4321 - categorical_accuracy: 0.8833\n",
            "Epoch 89/150\n",
            "2/2 [==============================] - 1s 342ms/step - loss: 0.3664 - categorical_accuracy: 0.9167\n",
            "Epoch 90/150\n",
            "2/2 [==============================] - 1s 352ms/step - loss: 0.3746 - categorical_accuracy: 0.8833\n",
            "Epoch 91/150\n",
            "2/2 [==============================] - 1s 389ms/step - loss: 0.3545 - categorical_accuracy: 0.9333\n",
            "Epoch 92/150\n",
            "2/2 [==============================] - 1s 355ms/step - loss: 0.4159 - categorical_accuracy: 0.8000\n",
            "Epoch 93/150\n",
            "2/2 [==============================] - 1s 341ms/step - loss: 0.3282 - categorical_accuracy: 0.9333\n",
            "Epoch 94/150\n",
            "2/2 [==============================] - 1s 384ms/step - loss: 0.4635 - categorical_accuracy: 0.8167\n",
            "Epoch 95/150\n",
            "2/2 [==============================] - 1s 352ms/step - loss: 0.5203 - categorical_accuracy: 0.8500\n",
            "Epoch 96/150\n",
            "2/2 [==============================] - 1s 355ms/step - loss: 0.4181 - categorical_accuracy: 0.8833\n",
            "Epoch 97/150\n",
            "2/2 [==============================] - 1s 362ms/step - loss: 0.4364 - categorical_accuracy: 0.8500\n",
            "Epoch 98/150\n",
            "2/2 [==============================] - 1s 352ms/step - loss: 0.4963 - categorical_accuracy: 0.7667\n",
            "Epoch 99/150\n",
            "2/2 [==============================] - 1s 352ms/step - loss: 0.4697 - categorical_accuracy: 0.7667\n",
            "Epoch 100/150\n",
            "2/2 [==============================] - 1s 389ms/step - loss: 0.7225 - categorical_accuracy: 0.6833\n",
            "Epoch 101/150\n",
            "2/2 [==============================] - 1s 345ms/step - loss: 0.5695 - categorical_accuracy: 0.7333\n",
            "Epoch 102/150\n",
            "2/2 [==============================] - 1s 365ms/step - loss: 0.4122 - categorical_accuracy: 0.8000\n",
            "Epoch 103/150\n",
            "2/2 [==============================] - 1s 373ms/step - loss: 0.4259 - categorical_accuracy: 0.8667\n",
            "Epoch 104/150\n",
            "2/2 [==============================] - 3s 1s/step - loss: 0.4292 - categorical_accuracy: 0.8333\n",
            "Epoch 105/150\n",
            "2/2 [==============================] - 3s 1s/step - loss: 0.3270 - categorical_accuracy: 0.8500\n",
            "Epoch 106/150\n",
            "2/2 [==============================] - 3s 1s/step - loss: 0.2987 - categorical_accuracy: 0.8667\n",
            "Epoch 107/150\n",
            "2/2 [==============================] - 2s 747ms/step - loss: 0.2472 - categorical_accuracy: 0.9167\n",
            "Epoch 108/150\n",
            "2/2 [==============================] - 1s 623ms/step - loss: 0.2458 - categorical_accuracy: 0.9000\n",
            "Epoch 109/150\n",
            "2/2 [==============================] - 1s 605ms/step - loss: 0.2265 - categorical_accuracy: 0.9333\n",
            "Epoch 110/150\n",
            "2/2 [==============================] - 1s 457ms/step - loss: 0.2288 - categorical_accuracy: 0.9333\n",
            "Epoch 111/150\n",
            "2/2 [==============================] - 1s 349ms/step - loss: 0.2838 - categorical_accuracy: 0.8667\n",
            "Epoch 112/150\n",
            "2/2 [==============================] - 1s 347ms/step - loss: 0.2515 - categorical_accuracy: 0.9000\n",
            "Epoch 113/150\n",
            "2/2 [==============================] - 1s 375ms/step - loss: 0.1948 - categorical_accuracy: 0.9500\n",
            "Epoch 114/150\n",
            "2/2 [==============================] - 1s 356ms/step - loss: 0.5936 - categorical_accuracy: 0.7833\n",
            "Epoch 115/150\n",
            "2/2 [==============================] - 1s 367ms/step - loss: 0.2455 - categorical_accuracy: 0.9500\n",
            "Epoch 116/150\n",
            "2/2 [==============================] - 1s 396ms/step - loss: 1.3709 - categorical_accuracy: 0.6000\n",
            "Epoch 117/150\n",
            "2/2 [==============================] - 1s 392ms/step - loss: 0.8746 - categorical_accuracy: 0.7000\n",
            "Epoch 118/150\n",
            "2/2 [==============================] - 1s 391ms/step - loss: 0.3537 - categorical_accuracy: 0.9000\n",
            "Epoch 119/150\n",
            "2/2 [==============================] - 1s 382ms/step - loss: 0.3981 - categorical_accuracy: 0.9000\n",
            "Epoch 120/150\n",
            "2/2 [==============================] - 1s 371ms/step - loss: 0.3062 - categorical_accuracy: 0.9333\n",
            "Epoch 121/150\n",
            "2/2 [==============================] - 1s 364ms/step - loss: 0.3399 - categorical_accuracy: 0.9000\n",
            "Epoch 122/150\n",
            "2/2 [==============================] - 1s 346ms/step - loss: 0.1970 - categorical_accuracy: 0.9667\n",
            "Epoch 123/150\n",
            "2/2 [==============================] - 1s 374ms/step - loss: 0.2418 - categorical_accuracy: 0.9333\n",
            "Epoch 124/150\n",
            "2/2 [==============================] - 1s 355ms/step - loss: 0.3145 - categorical_accuracy: 0.8500\n",
            "Epoch 125/150\n",
            "2/2 [==============================] - 1s 356ms/step - loss: 0.2942 - categorical_accuracy: 0.9000\n",
            "Epoch 126/150\n",
            "2/2 [==============================] - 1s 388ms/step - loss: 0.2172 - categorical_accuracy: 0.9333\n",
            "Epoch 127/150\n",
            "2/2 [==============================] - 1s 354ms/step - loss: 0.4055 - categorical_accuracy: 0.8500\n",
            "Epoch 128/150\n",
            "2/2 [==============================] - 1s 351ms/step - loss: 0.2435 - categorical_accuracy: 0.9333\n",
            "Epoch 129/150\n",
            "2/2 [==============================] - 1s 368ms/step - loss: 0.2355 - categorical_accuracy: 0.9167\n",
            "Epoch 130/150\n",
            "2/2 [==============================] - 1s 351ms/step - loss: 0.2145 - categorical_accuracy: 0.9333\n",
            "Epoch 131/150\n",
            "2/2 [==============================] - 1s 357ms/step - loss: 0.2543 - categorical_accuracy: 0.9000\n",
            "Epoch 132/150\n",
            "2/2 [==============================] - 1s 383ms/step - loss: 0.1930 - categorical_accuracy: 0.9667\n",
            "Epoch 133/150\n",
            "2/2 [==============================] - 1s 381ms/step - loss: 0.2029 - categorical_accuracy: 0.9333\n",
            "Epoch 134/150\n",
            "2/2 [==============================] - 1s 343ms/step - loss: 0.2197 - categorical_accuracy: 0.9667\n",
            "Epoch 135/150\n",
            "2/2 [==============================] - 1s 354ms/step - loss: 0.1282 - categorical_accuracy: 0.9833\n",
            "Epoch 136/150\n",
            "2/2 [==============================] - 1s 366ms/step - loss: 0.1522 - categorical_accuracy: 0.9500\n",
            "Epoch 137/150\n",
            "2/2 [==============================] - 1s 339ms/step - loss: 0.1151 - categorical_accuracy: 1.0000\n",
            "Epoch 138/150\n",
            "2/2 [==============================] - 1s 350ms/step - loss: 0.1377 - categorical_accuracy: 0.9667\n",
            "Epoch 139/150\n",
            "2/2 [==============================] - 1s 367ms/step - loss: 0.1292 - categorical_accuracy: 0.9500\n",
            "Epoch 140/150\n",
            "2/2 [==============================] - 1s 338ms/step - loss: 0.2407 - categorical_accuracy: 0.9333\n",
            "Epoch 141/150\n",
            "2/2 [==============================] - 1s 366ms/step - loss: 0.1917 - categorical_accuracy: 0.9500\n",
            "Epoch 142/150\n",
            "2/2 [==============================] - 1s 367ms/step - loss: 0.2787 - categorical_accuracy: 0.9333\n",
            "Epoch 143/150\n",
            "2/2 [==============================] - 1s 342ms/step - loss: 0.2366 - categorical_accuracy: 0.9000\n",
            "Epoch 144/150\n",
            "2/2 [==============================] - 1s 348ms/step - loss: 0.1621 - categorical_accuracy: 0.9667\n",
            "Epoch 145/150\n",
            "2/2 [==============================] - 1s 376ms/step - loss: 0.1971 - categorical_accuracy: 0.9333\n",
            "Epoch 146/150\n",
            "2/2 [==============================] - 1s 349ms/step - loss: 0.2257 - categorical_accuracy: 0.9167\n",
            "Epoch 147/150\n",
            "2/2 [==============================] - 1s 336ms/step - loss: 0.1754 - categorical_accuracy: 0.9667\n",
            "Epoch 148/150\n",
            "2/2 [==============================] - 1s 370ms/step - loss: 0.1456 - categorical_accuracy: 0.9500\n",
            "Epoch 149/150\n",
            "2/2 [==============================] - 1s 363ms/step - loss: 0.0984 - categorical_accuracy: 1.0000\n",
            "Epoch 150/150\n",
            "2/2 [==============================] - 1s 357ms/step - loss: 0.1698 - categorical_accuracy: 0.9333\n"
          ]
        }
      ],
      "source": [
        "noised_model, noised_history = noised_model, noised_history = training(noised_resampled_X_train, noised_resampled_Y_train) #training_val(noised_resampled_X_train[:-val_size], noised_resampled_Y_train[:-val_size], noised_resampled_X_train[-val_size:], noised_resampled_Y_train[-val_size:])"
      ]
    },
    {
      "cell_type": "code",
      "execution_count": 93,
      "metadata": {
        "colab": {
          "base_uri": "https://localhost:8080/",
          "height": 541
        },
        "id": "H3PtZToULNqz",
        "outputId": "7e204442-5181-4406-ba81-76d413cbaf24"
      },
      "outputs": [
        {
          "name": "stdout",
          "output_type": "stream",
          "text": [
            "1/1 [==============================] - 5s 5s/step\n",
            "2/2 [==============================] - 0s 100ms/step\n",
            "Prediction precision on the train set :  98.3 %\n",
            "Prediction precision on the test set :  45.0 %\n"
          ]
        },
        {
          "data": {
            "image/png": "[encoded data removed]",
            "text/plain": [
              "<Figure size 640x480 with 1 Axes>"
            ]
          },
          "metadata": {},
          "output_type": "display_data"
        }
      ],
      "source": [
        "#model_performances(noised_resampled_X_train[:-val_size], noised_resampled_Y_train[:-val_size], X_test, Y_test, noised_model, noised_history)\n",
        "model_performances(noised_resampled_X_train, noised_resampled_Y_train, X_test, Y_test, noised_model, noised_history)"
      ]
    }
  ],
  "metadata": {
    "colab": {
      "provenance": []
    },
    "kernelspec": {
      "display_name": "Python 3",
      "name": "python3"
    },
    "language_info": {
      "codemirror_mode": {
        "name": "ipython",
        "version": 3
      },
      "file_extension": ".py",
      "mimetype": "text/x-python",
      "name": "python",
      "nbconvert_exporter": "python",
      "pygments_lexer": "ipython3",
      "version": "3.11.4"
    }
  },
  "nbformat": 4,
  "nbformat_minor": 0
}
